{
 "cells": [
  {
   "cell_type": "code",
   "execution_count": 7,
   "id": "a887925d",
   "metadata": {},
   "outputs": [
    {
     "name": "stdout",
     "output_type": "stream",
     "text": [
      "3.9.7\n"
     ]
    }
   ],
   "source": [
    "from platform import python_version\n",
    "print(python_version());\n",
    "\n",
    "\n"
   ]
  },
  {
   "cell_type": "code",
   "execution_count": 9,
   "id": "b9c0f23e",
   "metadata": {},
   "outputs": [
    {
     "name": "stdout",
     "output_type": "stream",
     "text": [
      "15:25:22.000045\n",
      "<class 'datetime.time'>\n"
     ]
    }
   ],
   "source": [
    "from datetime import time\n",
    "t1 = time(15,25,22,45)\n",
    "print(t1)\n",
    "print(type(t1))\n"
   ]
  },
  {
   "cell_type": "code",
   "execution_count": 10,
   "id": "a670b88c",
   "metadata": {},
   "outputs": [
    {
     "name": "stdout",
     "output_type": "stream",
     "text": [
      "2022-01-03\n",
      "<class 'datetime.date'>\n"
     ]
    }
   ],
   "source": [
    "from datetime import date\n",
    "d1 =date(2022,1,3)\n",
    "print(d1)\n",
    "print(type(d1))"
   ]
  },
  {
   "cell_type": "code",
   "execution_count": 11,
   "id": "45f6c40b",
   "metadata": {},
   "outputs": [
    {
     "name": "stdout",
     "output_type": "stream",
     "text": [
      "input the radius of the circle :22\n",
      "the area of the circle  with radius  is: 1520.53084433746\n"
     ]
    }
   ],
   "source": [
    "from math import pi\n",
    "r = float(input(\"input the radius of the circle :\"))\n",
    "print(\"the area of the circle  with radius \"+ \" is: \" + str(pi * r**2))"
   ]
  },
  {
   "cell_type": "code",
   "execution_count": 12,
   "id": "441c2143",
   "metadata": {},
   "outputs": [
    {
     "name": "stdout",
     "output_type": "stream",
     "text": [
      "input your frist nameharoon khan\n",
      "input your last nameafridi\n",
      "helloafridi haroon khan\n"
     ]
    }
   ],
   "source": [
    "fname = input(\"input your frist name\")\n",
    "lname = input(\"input your last name\")\n",
    "print (\"hello\" +lname + \" \" + fname)\n"
   ]
  },
  {
   "cell_type": "code",
   "execution_count": 22,
   "id": "6a670c96",
   "metadata": {},
   "outputs": [
    {
     "name": "stdout",
     "output_type": "stream",
     "text": [
      "input your frist number: 12\n",
      "input your second number: 20\n",
      "12 20 32\n"
     ]
    }
   ],
   "source": [
    "num1 =  input(\"input your frist number: \")\n",
    "num2 =  input(\"input your second number: \")\n",
    "sum = int(num1) + int(num2)\n",
    "print(num1,num2, sum)\n"
   ]
  },
  {
   "cell_type": "code",
   "execution_count": 31,
   "id": "caef0216",
   "metadata": {},
   "outputs": [
    {
     "name": "stdout",
     "output_type": "stream",
     "text": [
      "Twinkle, twinkle,litter star, \n",
      "\t How i wonder what you are! \n",
      "\t Up above the world so high,\n",
      "\t\t like a diamond in the sky. \n",
      " Twinkle,twinkle,litter star,\n",
      "\t How i wonder what you are!\n"
     ]
    }
   ],
   "source": [
    "print(\"Twinkle, twinkle,litter star, \\n\\t How i wonder what you are! \\n\\t Up above the world so high,\\n\\t\\t like a diamond in the sky. \\n Twinkle,twinkle,litter star,\\n\\t How i wonder what you are!\")    "
   ]
  },
  {
   "cell_type": "code",
   "execution_count": null,
   "id": "b96f11ff",
   "metadata": {},
   "outputs": [],
   "source": [
    "\n"
   ]
  },
  {
   "cell_type": "code",
   "execution_count": null,
   "id": "ea313b9c",
   "metadata": {},
   "outputs": [],
   "source": []
  }
 ],
 "metadata": {
  "kernelspec": {
   "display_name": "Python 3 (ipykernel)",
   "language": "python",
   "name": "python3"
  },
  "language_info": {
   "codemirror_mode": {
    "name": "ipython",
    "version": 3
   },
   "file_extension": ".py",
   "mimetype": "text/x-python",
   "name": "python",
   "nbconvert_exporter": "python",
   "pygments_lexer": "ipython3",
   "version": "3.9.7"
  }
 },
 "nbformat": 4,
 "nbformat_minor": 5
}
